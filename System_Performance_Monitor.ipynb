{
  "cells": [
    {
      "cell_type": "markdown",
      "metadata": {
        "id": "view-in-github",
        "colab_type": "text"
      },
      "source": [
        "<a href=\"https://colab.research.google.com/github/Adomigeorge/system_perf_monitor/blob/main/System_Performance_Monitor.ipynb\" target=\"_parent\"><img src=\"https://colab.research.google.com/assets/colab-badge.svg\" alt=\"Open In Colab\"/></a>"
      ]
    },
    {
      "cell_type": "markdown",
      "source": [
        "**System Performance Monitor**"
      ],
      "metadata": {
        "id": "mqfrTBD7nh6P"
      }
    },
    {
      "cell_type": "markdown",
      "source": [
        "Libraries used"
      ],
      "metadata": {
        "id": "jJ5DMwxCnTrT"
      }
    },
    {
      "cell_type": "code",
      "source": [
        "import psutil\n",
        "import time\n",
        "import datetime"
      ],
      "metadata": {
        "id": "qMhIF5eKjJt7"
      },
      "execution_count": null,
      "outputs": []
    },
    {
      "cell_type": "markdown",
      "source": [
        "Retrieves current CPU and memory usage.\n",
        "\n",
        "    Returns:\n",
        "        tuple: (cpu_usage, mem_usage)\n",
        "            cpu_usage (float):  CPU usage as a percentage.\n",
        "            mem_usage (float): Memory usage as a percentage.\n",
        "                   Returns (None, None) on error."
      ],
      "metadata": {
        "id": "hSRFhirDm0LU"
      }
    },
    {
      "cell_type": "code",
      "source": [
        "def get_system_usage():\n",
        "\n",
        "    try:\n",
        "        cpu_usage = psutil.cpu_percent(interval=1)  # 1 second interval for measurement\n",
        "        mem_usage = psutil.virtual_memory().percent\n",
        "        return cpu_usage, mem_usage\n",
        "    except Exception as e:\n",
        "        print(f\"Error getting system usage: {e}\")\n",
        "        return None, None"
      ],
      "metadata": {
        "id": "XBXqrXFGjPYb"
      },
      "execution_count": null,
      "outputs": []
    },
    {
      "cell_type": "markdown",
      "source": [
        " Logs CPU and memory usage to a file with a timestamp.\n",
        "\n",
        "    Args:\n",
        "        log_file (str, optional): The name of the log file.\n",
        "            Defaults to \"system_usage.log\"."
      ],
      "metadata": {
        "id": "rADxhXQdnwkE"
      }
    },
    {
      "cell_type": "code",
      "source": [
        "def log_system_usage(log_file=\"system_usage.log\"):\n",
        "\n",
        "    cpu_usage, mem_usage = get_system_usage()\n",
        "    if cpu_usage is not None and mem_usage is not None: # Check if get_system_usage was successful\n",
        "        timestamp = datetime.datetime.now().strftime(\"%Y-%m-%d %H:%M:%S\")\n",
        "        log_message = f\"{timestamp}, CPU Usage: {cpu_usage}%, Memory Usage: {mem_usage}%\\n\"\n",
        "        try:\n",
        "            with open(log_file, \"a\") as f:\n",
        "                f.write(log_message)\n",
        "            print(log_message.strip())  # Print to console as well, strip newline for cleaner output\n",
        "        except Exception as e:\n",
        "            print(f\"Error writing to log file: {e}\")"
      ],
      "metadata": {
        "id": "JlszWd16jW2N"
      },
      "execution_count": null,
      "outputs": []
    },
    {
      "cell_type": "markdown",
      "source": [
        " Monitors system performance at a specified interval and logs the data.\n",
        "\n",
        "    Args:\n",
        "        interval (int, optional): The time interval (in seconds) between measurements.\n",
        "            Defaults to 60 seconds.\n",
        "        log_file (str, optional): The name of the log file.\n",
        "            Defaults to \"system_usage.log\"."
      ],
      "metadata": {
        "id": "mBi8cBEin7pK"
      }
    },
    {
      "cell_type": "code",
      "source": [
        "def monitor_system(interval=60, log_file=\"system_usage.log\"):\n",
        "\n",
        "    print(f\"Monitoring system performance every {interval} seconds. Logging to {log_file}...\")\n",
        "    try:\n",
        "        while True:\n",
        "            log_system_usage(log_file)\n",
        "            time.sleep(interval)\n",
        "    except KeyboardInterrupt:\n",
        "        print(\"\\nMonitoring stopped by user.\")\n",
        "    except Exception as e:\n",
        "        print(f\"An error occurred: {e}\")\n",
        "        print(\"Monitoring stopped.\")"
      ],
      "metadata": {
        "id": "sYf0CZubjfOi"
      },
      "execution_count": null,
      "outputs": []
    },
    {
      "cell_type": "code",
      "source": [
        "if __name__ == \"__main__\":\n",
        "    # You can change the interval and log file name here if needed.\n",
        "    monitor_interval = 10  # seconds\n",
        "    log_file_name = \"system_usage.log\"\n",
        "    monitor_system(interval=monitor_interval, log_file=log_file_name)"
      ],
      "outputs": [],
      "execution_count": null,
      "metadata": {
        "id": "ZjWVGp7qisEG"
      }
    }
  ],
  "metadata": {
    "colab": {
      "provenance": [],
      "toc_visible": true,
      "include_colab_link": true
    },
    "kernelspec": {
      "display_name": "Python 3",
      "name": "python3"
    }
  },
  "nbformat": 4,
  "nbformat_minor": 0
}